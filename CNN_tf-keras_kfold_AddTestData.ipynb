{
 "cells": [
  {
   "cell_type": "code",
   "execution_count": 1,
   "metadata": {
    "colab": {
     "base_uri": "https://localhost:8080/",
     "height": 34
    },
    "colab_type": "code",
    "executionInfo": {
     "elapsed": 611,
     "status": "ok",
     "timestamp": 1578833553784,
     "user": {
      "displayName": "Shogo NAKAMURA",
      "photoUrl": "",
      "userId": "08074476773781801102"
     },
     "user_tz": -540
    },
    "id": "MKIvjGGMAFg4",
    "outputId": "e675ed90-05c8-43a8-c91d-b70f51994557"
   },
   "outputs": [
    {
     "name": "stdout",
     "output_type": "stream",
     "text": [
      "Drive already mounted at /content/drive; to attempt to forcibly remount, call drive.mount(\"/content/drive\", force_remount=True).\n"
     ]
    }
   ],
   "source": [
    "###  Rer.\n",
    "#-- https://www.kaggle.com/luyujia/mnist-chainer-cnn/notebook\n",
    "from google.colab import drive\n",
    "drive.mount('/content/drive')"
   ]
  },
  {
   "cell_type": "code",
   "execution_count": 2,
   "metadata": {
    "colab": {
     "base_uri": "https://localhost:8080/",
     "height": 34
    },
    "colab_type": "code",
    "executionInfo": {
     "elapsed": 3310,
     "status": "ok",
     "timestamp": 1578833558190,
     "user": {
      "displayName": "Shogo NAKAMURA",
      "photoUrl": "",
      "userId": "08074476773781801102"
     },
     "user_tz": -540
    },
    "id": "LQXnyzGwAlVt",
    "outputId": "7e42a4e0-8af7-4841-f3fd-0c29110ad8a0"
   },
   "outputs": [
    {
     "name": "stdout",
     "output_type": "stream",
     "text": [
      "ukiyoe-test-imgs.npz  ukiyoe-train-imgs.npz  ukiyoe-train-labels.npz\n"
     ]
    }
   ],
   "source": [
    "# 'My Drive'の表記が出ていればマウントがうまく行われています。\n",
    "# !ls 'drive/'\n",
    "!ls 'drive/My Drive/jupyter/ProbSpace/ukiyoe/data/'"
   ]
  },
  {
   "cell_type": "code",
   "execution_count": 0,
   "metadata": {
    "colab": {},
    "colab_type": "code",
    "id": "y3TNKtcYAY8R"
   },
   "outputs": [],
   "source": [
    "##-- import library\n",
    "import numpy as np \n",
    "import pandas as pd \n",
    "##-- Scikit-Learn\n",
    "from sklearn.model_selection import train_test_split\n",
    "##-- Matplot\n",
    "import matplotlib.pyplot as plt\n",
    "import matplotlib.cm as cm\n",
    "import matplotlib.image as mpimg\n",
    "import seaborn as sns\n",
    "%matplotlib inline"
   ]
  },
  {
   "cell_type": "code",
   "execution_count": 4,
   "metadata": {
    "colab": {
     "base_uri": "https://localhost:8080/",
     "height": 80
    },
    "colab_type": "code",
    "executionInfo": {
     "elapsed": 12313,
     "status": "ok",
     "timestamp": 1578833569893,
     "user": {
      "displayName": "Shogo NAKAMURA",
      "photoUrl": "",
      "userId": "08074476773781801102"
     },
     "user_tz": -540
    },
    "id": "edH8CExNAXkX",
    "outputId": "932ac73c-85a9-4dd0-893a-9dcca50dce26"
   },
   "outputs": [
    {
     "name": "stderr",
     "output_type": "stream",
     "text": [
      "Using TensorFlow backend.\n"
     ]
    },
    {
     "data": {
      "text/html": [
       "<p style=\"color: red;\">\n",
       "The default version of TensorFlow in Colab will soon switch to TensorFlow 2.x.<br>\n",
       "We recommend you <a href=\"https://www.tensorflow.org/guide/migrate\" target=\"_blank\">upgrade</a> now \n",
       "or ensure your notebook will continue to use TensorFlow 1.x via the <code>%tensorflow_version 1.x</code> magic:\n",
       "<a href=\"https://colab.research.google.com/notebooks/tensorflow_version.ipynb\" target=\"_blank\">more info</a>.</p>\n"
      ],
      "text/plain": [
       "<IPython.core.display.HTML object>"
      ]
     },
     "metadata": {
      "tags": []
     },
     "output_type": "display_data"
    }
   ],
   "source": [
    "###---  Data PATH  ---###\n",
    "datapath = \"drive/My Drive/jupyter/ProbSpace/ukiyoe/data/\"\n",
    "\n",
    "###-- Read Datasets\n",
    "def load(f):\n",
    "    return np.load(f)['arr_0']\n",
    "X_original = load(datapath+\"ukiyoe-train-imgs.npz\")\n",
    "Y_original = load(datapath+\"ukiyoe-train-labels.npz\")\n",
    "\n",
    "###-- Shuffle dataset --###\n",
    "from sklearn.utils import shuffle\n",
    "X_original, Y_original = shuffle(X_original, Y_original, random_state=20200101)\n",
    "\n",
    "###-- Astype: int --> float\n",
    "X_original = X_original.astype(np.float32)\n",
    "###-- Normalization: [0:255] => [0.0:1.0]\n",
    "X_original = np.multiply(X_original, 1.0 / 255.0)\n",
    "\n",
    "###-- Encode labels to one hot vectors (ex : 2 -> [0,0,1,0,0,0,0,0,0,0])\n",
    "from keras.utils.np_utils import to_categorical # convert to one-hot-encoding\n",
    "Y_original = to_categorical(Y_original, num_classes = 10)"
   ]
  },
  {
   "cell_type": "code",
   "execution_count": 5,
   "metadata": {
    "colab": {
     "base_uri": "https://localhost:8080/",
     "height": 68
    },
    "colab_type": "code",
    "executionInfo": {
     "elapsed": 2036,
     "status": "ok",
     "timestamp": 1578833602537,
     "user": {
      "displayName": "Shogo NAKAMURA",
      "photoUrl": "",
      "userId": "08074476773781801102"
     },
     "user_tz": -540
    },
    "id": "9d5edMg_hzGw",
    "outputId": "3def08ee-577e-4b33-d9f7-067beb92e3c0"
   },
   "outputs": [
    {
     "name": "stdout",
     "output_type": "stream",
     "text": [
      "(3158, 224, 224, 3)\n",
      "(222, 224, 224, 3)\n",
      "(3380, 224, 224, 3)\n"
     ]
    }
   ],
   "source": [
    "###-- Read Test Data\n",
    "datapath_test = \"drive/My Drive/jupyter/ProbSpace/ukiyoe/data_with_test/\"\n",
    "filename_test = \"ukiyoe-dataset_WithTest.npz\"\n",
    "\n",
    "X_test = np.load(datapath_test+filename_test)[\"img\"]\n",
    "Y_test = np.load(datapath_test+filename_test)[\"lbl\"]\n",
    "###-----  Add Test data predicted by current model  -----###\n",
    "print(X_original.shape)\n",
    "X_original = np.append(X_original, X_test, axis=0)\n",
    "Y_original = np.append(Y_original, Y_test, axis=0)\n",
    "\n",
    "# ###-- Shuffle dataset --###\n",
    "# from sklearn.utils import shuffle\n",
    "# X_original, Y_original = shuffle(X_original, Y_original, random_state=20200101)\n",
    "print(X_test.shape)\n",
    "print(X_original.shape)"
   ]
  },
  {
   "cell_type": "code",
   "execution_count": 1,
   "metadata": {
    "colab": {
     "base_uri": "https://localhost:8080/",
     "height": 303
    },
    "colab_type": "code",
    "executionInfo": {
     "elapsed": 1324,
     "status": "ok",
     "timestamp": 1578833627952,
     "user": {
      "displayName": "Shogo NAKAMURA",
      "photoUrl": "",
      "userId": "08074476773781801102"
     },
     "user_tz": -540
    },
    "id": "UpBya7TJaLFg",
    "outputId": "2b74a467-a28d-4b90-a3b3-d28d64e6a1a2"
   },
   "outputs": [],
   "source": [
    "###-- Check the data shape --###\n",
    "print(\"X_original: \", X_original.shape)\n",
    "# print(\"X_original: \", X_original[3])\n",
    "###-- Check image\n",
    "plt.imshow(X_original[22], cmap=cm.gray_r, interpolation='nearest')\n",
    "plt.show()\n",
    "###-- Check the data of Y_original(label format)\n",
    "print(\"Y_original: \", Y_original[3])"
   ]
  },
  {
   "cell_type": "code",
   "execution_count": 2,
   "metadata": {
    "colab": {
     "base_uri": "https://localhost:8080/",
     "height": 248
    },
    "colab_type": "code",
    "executionInfo": {
     "elapsed": 1357,
     "status": "ok",
     "timestamp": 1578833632633,
     "user": {
      "displayName": "Shogo NAKAMURA",
      "photoUrl": "",
      "userId": "08074476773781801102"
     },
     "user_tz": -540
    },
    "id": "XO-Ol9-dgB0x",
    "outputId": "f188bb46-66fe-4aff-baf7-0e41e8c69714"
   },
   "outputs": [],
   "source": [
    "###-- See several image --###\n",
    "cols, rows = 5, 4\n",
    "img_num = cols * rows\n",
    "\n",
    "for i in range(img_num):\n",
    "    plt.subplot(rows, cols, i + 1)\n",
    "    plt.imshow(X_original[i], cmap=cm.gray_r, interpolation=\"nearest\")\n",
    "    plt.axis('off')"
   ]
  },
  {
   "cell_type": "code",
   "execution_count": 0,
   "metadata": {
    "colab": {},
    "colab_type": "code",
    "id": "cQo8GUeyZZZN"
   },
   "outputs": [],
   "source": [
    "###-- KFold --###\n",
    "num_splits=5\n",
    "from sklearn.model_selection import KFold\n",
    "kf = KFold(n_splits=num_splits, shuffle=True, random_state=20200102)\n",
    "\n",
    "i = 0\n",
    "for train_idx, val_idx in kf.split(X_original):\n",
    "  i = i + 1\n",
    "  ###-- Set the dataset --###\n",
    "  X_kfold_train, Y_kfold_train = X_original[train_idx], Y_original[train_idx]\n",
    "  X_kfold_val, Y_kfold_val = X_original[val_idx], Y_original[val_idx]\n",
    "  ###-- 訓練データの保存 --###\n",
    "  datapath_kfold = \"drive/My Drive/jupyter/ProbSpace/ukiyoe/data_kfold/\"\n",
    "  np.savez(datapath_kfold+\"ukiyoe-dataset_kfold\"+str(i)+\"_train\"+\".npz\", img=X_kfold_train, lbl=Y_kfold_train)\n",
    "  np.savez(datapath_kfold+\"ukiyoe-dataset_kfold\"+str(i)+\"_validation\"+\".npz\", img=X_kfold_val, lbl=Y_kfold_val)\n",
    "\n",
    "\n",
    "# train_idx, val_idx = list( kf.split(X_original) )[0]\n",
    "# print(train_idx, val_idx)"
   ]
  },
  {
   "cell_type": "code",
   "execution_count": 0,
   "metadata": {
    "colab": {},
    "colab_type": "code",
    "id": "BTs8rO_sc0Hf"
   },
   "outputs": [],
   "source": [
    "# ###-- 訓練データの読み込み --###\n",
    "# load_train = np.load('drive/My Drive/jupyter/ProbSpace/train-data/train-data.npz')\n",
    "# load_test = np.load('drive/My Drive/jupyter/ProbSpace/train-data/test-data.npz')\n",
    "# print(load_train.files)"
   ]
  },
  {
   "cell_type": "code",
   "execution_count": 0,
   "metadata": {
    "colab": {},
    "colab_type": "code",
    "id": "yqyDC0Pohj43"
   },
   "outputs": [],
   "source": []
  }
 ],
 "metadata": {
  "accelerator": "GPU",
  "colab": {
   "collapsed_sections": [],
   "name": "CNN_tf-keras_kfold_AddTestData.ipynb",
   "provenance": []
  },
  "kernelspec": {
   "display_name": "Python 3",
   "language": "python",
   "name": "python3"
  },
  "language_info": {
   "codemirror_mode": {
    "name": "ipython",
    "version": 3
   },
   "file_extension": ".py",
   "mimetype": "text/x-python",
   "name": "python",
   "nbconvert_exporter": "python",
   "pygments_lexer": "ipython3",
   "version": "3.6.7"
  }
 },
 "nbformat": 4,
 "nbformat_minor": 1
}
