{
 "cells": [
  {
   "cell_type": "code",
   "execution_count": 15,
   "metadata": {
    "colab": {
     "base_uri": "https://localhost:8080/",
     "height": 34
    },
    "colab_type": "code",
    "executionInfo": {
     "elapsed": 1305,
     "status": "ok",
     "timestamp": 1578822995270,
     "user": {
      "displayName": "Shogo NAKAMURA",
      "photoUrl": "",
      "userId": "08074476773781801102"
     },
     "user_tz": -540
    },
    "id": "MKIvjGGMAFg4",
    "outputId": "ecbb68d1-a369-4df7-e2e3-35342d99df33"
   },
   "outputs": [
    {
     "name": "stdout",
     "output_type": "stream",
     "text": [
      "Drive already mounted at /content/drive; to attempt to forcibly remount, call drive.mount(\"/content/drive\", force_remount=True).\n"
     ]
    }
   ],
   "source": [
    "from google.colab import drive\n",
    "drive.mount('/content/drive')"
   ]
  },
  {
   "cell_type": "code",
   "execution_count": 0,
   "metadata": {
    "colab": {},
    "colab_type": "code",
    "id": "y3TNKtcYAY8R"
   },
   "outputs": [],
   "source": [
    "import pip\n",
    "##-- import library\n",
    "import numpy as np \n",
    "import pandas as pd \n",
    "##-- Scikit-Learn\n",
    "from sklearn.model_selection import train_test_split\n",
    "##-- Matplot\n",
    "import matplotlib.pyplot as plt\n",
    "import matplotlib.cm as cm\n",
    "import matplotlib.image as mpimg\n",
    "import seaborn as sns\n",
    "%matplotlib inline\n",
    "\n",
    "from sklearn.metrics import confusion_matrix\n",
    "import itertools\n",
    "\n",
    "import pickle\n",
    "sns.set(style='white', context='notebook', palette='deep')"
   ]
  },
  {
   "cell_type": "code",
   "execution_count": 1,
   "metadata": {
    "colab": {
     "base_uri": "https://localhost:8080/",
     "height": 1000
    },
    "colab_type": "code",
    "executionInfo": {
     "elapsed": 11336,
     "status": "ok",
     "timestamp": 1578823008382,
     "user": {
      "displayName": "Shogo NAKAMURA",
      "photoUrl": "",
      "userId": "08074476773781801102"
     },
     "user_tz": -540
    },
    "id": "Rw8YQv0DQw9Y",
    "outputId": "923e210a-5c2b-430f-e2ad-0c0d8a11f16e"
   },
   "outputs": [],
   "source": [
    "##-- Updata tensorflow 1.x -->  2.x\n",
    "!pip install tensorflow-gpu \n",
    "!pip install tf-nightly "
   ]
  },
  {
   "cell_type": "code",
   "execution_count": 18,
   "metadata": {
    "colab": {
     "base_uri": "https://localhost:8080/",
     "height": 68
    },
    "colab_type": "code",
    "executionInfo": {
     "elapsed": 8947,
     "status": "ok",
     "timestamp": 1578823008383,
     "user": {
      "displayName": "Shogo NAKAMURA",
      "photoUrl": "",
      "userId": "08074476773781801102"
     },
     "user_tz": -540
    },
    "id": "iB9Vw8gFTq6R",
    "outputId": "6485c380-e25a-46aa-9201-767f57e57e36"
   },
   "outputs": [
    {
     "name": "stdout",
     "output_type": "stream",
     "text": [
      "2.2.0-dev20200112\n",
      "float32\n",
      "/device:GPU:0\n"
     ]
    }
   ],
   "source": [
    "import tensorflow as tf\n",
    "print(tf.__version__)\n",
    "print(tf.keras.backend.floatx())\n",
    "print(tf.test.gpu_device_name())"
   ]
  },
  {
   "cell_type": "code",
   "execution_count": 0,
   "metadata": {
    "colab": {},
    "colab_type": "code",
    "id": "xMkVWI3QW0lF"
   },
   "outputs": [],
   "source": [
    "from tensorflow.keras import layers, models"
   ]
  },
  {
   "cell_type": "code",
   "execution_count": 0,
   "metadata": {
    "colab": {},
    "colab_type": "code",
    "id": "g1iVL7k3KRx7"
   },
   "outputs": [],
   "source": [
    "import random \n",
    "np.random.seed(99)\n",
    "random.seed(99)"
   ]
  },
  {
   "cell_type": "code",
   "execution_count": 0,
   "metadata": {
    "colab": {},
    "colab_type": "code",
    "id": "2lNHJ8FJJtDa"
   },
   "outputs": [],
   "source": [
    "###-- データの読みこみ --###\n",
    "\n",
    "import numpy as np\n",
    "import os\n",
    "\n",
    "class UkiyoeDataLoader(object):\n",
    "    \"\"\"\n",
    "    Example\n",
    "    -------\n",
    "    >>> ukiyoe_dl = UkiyoeDataLoader()\n",
    "    >>> datapath = \"./data\"\n",
    "    >>> train_imgs, train_lbls, validation_imgs, validation_lbls = ukiyoe_dl.load(datapath)\n",
    "    \"\"\"\n",
    "    def __init__(self, validation_size: float):\n",
    "        \"\"\"\n",
    "        validation_size : float\n",
    "        [0., 1.]\n",
    "        ratio of validation data\n",
    "        \"\"\"\n",
    "        self._basename_list = [\n",
    "        'ukiyoe-train-imgs.npz',\\\n",
    "        'ukiyoe-train-labels.npz'\n",
    "        ]\n",
    "        self.validation_size = validation_size\n",
    "\n",
    "    def load(self, datapath: str, random_seed: int=13) -> np.ndarray:\n",
    "        filenames_list = self._make_filenames(datapath)\n",
    "        data_list = [np.load(filename)['arr_0'] for filename in filenames_list]\n",
    "\n",
    "        all_imgs, all_lbls = data_list\n",
    "        ##########################################\n",
    "        ##########################################\n",
    "        # # shuffle data\n",
    "        # from sklearn.utils import shuffle\n",
    "        # all_imgs, all_lbls = shuffle(all_imgs, all_lbls, random_state=20191231)\n",
    "        ##########################################\n",
    "        ##########################################\n",
    "\n",
    "        # shuffle data\n",
    "        np.random.seed(random_seed)\n",
    "        perm_idx = np.random.permutation(len(all_imgs))\n",
    "        all_imgs = all_imgs[perm_idx]\n",
    "        all_lbls = all_lbls[perm_idx]\n",
    "\n",
    "        # split train and validation\n",
    "        validation_num = int(len(all_lbls)*self.validation_size)\n",
    "\n",
    "        validation_imgs = all_imgs[:validation_num]\n",
    "        validation_lbls = all_lbls[:validation_num]\n",
    "\n",
    "        train_imgs = all_imgs[validation_num:]\n",
    "        train_lbls = all_lbls[validation_num:]\n",
    "\n",
    "        return train_imgs, train_lbls, validation_imgs, validation_lbls\n",
    "\n",
    "    def _make_filenames(self, datapath: str) -> list:\n",
    "        filenames_list = [os.path.join(datapath, basename) for basename in self._basename_list]\n",
    "        return filenames_list"
   ]
  },
  {
   "cell_type": "code",
   "execution_count": 22,
   "metadata": {
    "colab": {
     "base_uri": "https://localhost:8080/",
     "height": 34
    },
    "colab_type": "code",
    "executionInfo": {
     "elapsed": 20504,
     "status": "ok",
     "timestamp": 1578823024249,
     "user": {
      "displayName": "Shogo NAKAMURA",
      "photoUrl": "",
      "userId": "08074476773781801102"
     },
     "user_tz": -540
    },
    "id": "zND-81nwJuwy",
    "outputId": "913dab93-5425-4b23-de9a-55679bbe4408"
   },
   "outputs": [
    {
     "name": "stdout",
     "output_type": "stream",
     "text": [
      "(947, 224, 224, 3)\n"
     ]
    }
   ],
   "source": [
    "###-- 分類する数 --###\n",
    "num_classes = 10\n",
    "\n",
    "###---  読み込み  ---###\n",
    "datapath = \"drive/My Drive/data/\"\n",
    "\n",
    "# ###--検証用データの比率\n",
    "validation_size = 0.3\n",
    "###-- 全体の20%をテスト用に割り当てる\n",
    "X_train, Y_train, X_test, Y_test \\\n",
    "= UkiyoeDataLoader(validation_size).load(datapath)\n",
    "X_test = X_test.astype(np.float32)\n",
    "X_test = np.multiply(X_test, 1.0 / 255.0)\n",
    "from keras.utils.np_utils import to_categorical # convert to one-hot-encoding\n",
    "Y_test = to_categorical(Y_test, num_classes = 10)\n",
    "\n",
    "###--型をint --> float変換する。\n",
    "X_train = X_train.astype(np.float32)\n",
    "###-- convert from [0:255] => [0.0:1.0]\n",
    "X_train = np.multiply(X_train, 1.0 / 255.0)\n",
    "\n",
    "###-- Encode labels to one hot vectors (ex : 2 -> [0,0,1,0,0,0,0,0,0,0])\n",
    "from keras.utils.np_utils import to_categorical # convert to one-hot-encoding\n",
    "Y_train = to_categorical(Y_train, num_classes = 10)\n",
    "\n",
    "\n",
    "print(X_test.shape)"
   ]
  },
  {
   "cell_type": "markdown",
   "metadata": {
    "colab_type": "text",
    "id": "i9NYNSLba5wm"
   },
   "source": [
    "###---  Definition of Model  ---###"
   ]
  },
  {
   "cell_type": "markdown",
   "metadata": {
    "colab_type": "text",
    "id": "OLtmtymFacU4"
   },
   "source": [
    "学習およびモデルの保存"
   ]
  },
  {
   "cell_type": "markdown",
   "metadata": {
    "colab_type": "text",
    "id": "lbvZB6wdjnJD"
   },
   "source": [
    "テストデータで予測"
   ]
  },
  {
   "cell_type": "code",
   "execution_count": 23,
   "metadata": {
    "colab": {
     "base_uri": "https://localhost:8080/",
     "height": 34
    },
    "colab_type": "code",
    "executionInfo": {
     "elapsed": 18468,
     "status": "ok",
     "timestamp": 1578823026011,
     "user": {
      "displayName": "Shogo NAKAMURA",
      "photoUrl": "",
      "userId": "08074476773781801102"
     },
     "user_tz": -540
    },
    "id": "pvU-d5tlZpFf",
    "outputId": "05f5b8ba-34e8-43a8-f342-0b10eef7026d"
   },
   "outputs": [
    {
     "name": "stdout",
     "output_type": "stream",
     "text": [
      "(397, 224, 224, 3)\n"
     ]
    }
   ],
   "source": [
    "###---  提出用データの読み込み  ---###\n",
    "###---  Data PATH  ---###\n",
    "datapath_predict = \"drive/My Drive/data/\"\n",
    "\n",
    "###--データの読み込み\n",
    "def load(f):\n",
    "    return np.load(f)['arr_0']\n",
    "X_submit = load(datapath_predict+\"ukiyoe-test-imgs.npz\")\n",
    "\n",
    "###--型をint --> float変換する。\n",
    "X_submit = X_submit.astype(np.float32)\n",
    "###-- convert from [0:255] => [0.0:1.0]\n",
    "X_submit = np.multiply(X_submit, 1.0 / 255.0)\n",
    "\n",
    "print(X_submit.shape)"
   ]
  },
  {
   "cell_type": "code",
   "execution_count": 0,
   "metadata": {
    "colab": {},
    "colab_type": "code",
    "id": "_SJK37dOgBfC"
   },
   "outputs": [],
   "source": [
    "# ###-- 学習済みモデルの読み込み --###\n",
    "###---  Data PATH  ---###\n",
    "datapath_model = \"drive/My Drive/save_model/\"\n",
    "# 重みとオプティマイザを含む全く同じモデルを再作成\n",
    "model1 = tf.keras.models.load_model(datapath_model+'model1.h5')\n",
    "model2 = tf.keras.models.load_model(datapath_model+'model2.h5')\n",
    "model3 = tf.keras.models.load_model(datapath_model+'model3.h5')\n",
    "model4 = tf.keras.models.load_model(datapath_model+'model4.h5')\n",
    "model5 = tf.keras.models.load_model(datapath_model+'model5.h5')"
   ]
  },
  {
   "cell_type": "code",
   "execution_count": 0,
   "metadata": {
    "colab": {},
    "colab_type": "code",
    "id": "LsEfVf_GK1mU"
   },
   "outputs": [],
   "source": [
    "###---  Validation  ---###\n",
    "tem1 = model1.predict(X_test)\n",
    "tem2 = model2.predict(X_test)\n",
    "tem3 = model3.predict(X_test)\n",
    "tem4 = model4.predict(X_test)\n",
    "tem5 = model5.predict(X_test)\n",
    "tem = tem1 + tem2 + tem3 + tem4 + tem5\n",
    "predicts = np.argmax( tem , axis=1)\n",
    "predicts = predicts.astype(np.int64)"
   ]
  },
  {
   "cell_type": "code",
   "execution_count": 27,
   "metadata": {
    "colab": {
     "base_uri": "https://localhost:8080/",
     "height": 34
    },
    "colab_type": "code",
    "executionInfo": {
     "elapsed": 9222,
     "status": "ok",
     "timestamp": 1578823160287,
     "user": {
      "displayName": "Shogo NAKAMURA",
      "photoUrl": "",
      "userId": "08074476773781801102"
     },
     "user_tz": -540
    },
    "id": "l8Cl8nPVfx0s",
    "outputId": "f430cfb3-614b-443f-bc50-4543fee5d2d8"
   },
   "outputs": [
    {
     "name": "stdout",
     "output_type": "stream",
     "text": [
      "0.9398099 0.9260824 0.95987326 0.9260824 0.94720167\n"
     ]
    }
   ],
   "source": [
    "score1 = model1.evaluate(X_test, Y_test, verbose=0)\n",
    "score2 = model2.evaluate(X_test, Y_test, verbose=0)\n",
    "score3 = model3.evaluate(X_test, Y_test, verbose=0)\n",
    "score4 = model4.evaluate(X_test, Y_test, verbose=0)\n",
    "score5 = model5.evaluate(X_test, Y_test, verbose=0)\n",
    "\n",
    "print(score1[1], score2[1], score3[1], score4[1], score5[1])"
   ]
  },
  {
   "cell_type": "code",
   "execution_count": 28,
   "metadata": {
    "colab": {
     "base_uri": "https://localhost:8080/",
     "height": 34
    },
    "colab_type": "code",
    "executionInfo": {
     "elapsed": 20963,
     "status": "ok",
     "timestamp": 1578823276292,
     "user": {
      "displayName": "Shogo NAKAMURA",
      "photoUrl": "",
      "userId": "08074476773781801102"
     },
     "user_tz": -540
    },
    "id": "2lbeDsG67hlH",
    "outputId": "5488a86b-16e9-452a-f038-f332b4c72008"
   },
   "outputs": [
    {
     "name": "stdout",
     "output_type": "stream",
     "text": [
      "0.9402985 0.93577564 0.93351424 0.91090006 0.9384894\n"
     ]
    }
   ],
   "source": [
    "score1 = model1.evaluate(X_train, Y_train, verbose=0)\n",
    "score2 = model2.evaluate(X_train, Y_train, verbose=0)\n",
    "score3 = model3.evaluate(X_train, Y_train, verbose=0)\n",
    "score4 = model4.evaluate(X_train, Y_train, verbose=0)\n",
    "score5 = model5.evaluate(X_train, Y_train, verbose=0)\n",
    "\n",
    "print(score1[1], score2[1], score3[1], score4[1], score5[1])"
   ]
  },
  {
   "cell_type": "code",
   "execution_count": 0,
   "metadata": {
    "colab": {},
    "colab_type": "code",
    "id": "FTboRPTLMwSX"
   },
   "outputs": [],
   "source": []
  }
 ],
 "metadata": {
  "accelerator": "GPU",
  "colab": {
   "collapsed_sections": [],
   "name": "validation_ansemble.ipynb",
   "provenance": []
  },
  "kernelspec": {
   "display_name": "Python 3",
   "language": "python",
   "name": "python3"
  },
  "language_info": {
   "codemirror_mode": {
    "name": "ipython",
    "version": 3
   },
   "file_extension": ".py",
   "mimetype": "text/x-python",
   "name": "python",
   "nbconvert_exporter": "python",
   "pygments_lexer": "ipython3",
   "version": "3.7.7"
  }
 },
 "nbformat": 4,
 "nbformat_minor": 1
}
