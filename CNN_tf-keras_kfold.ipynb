{
 "cells": [
  {
   "cell_type": "code",
   "execution_count": 63,
   "metadata": {
    "colab": {
     "base_uri": "https://localhost:8080/",
     "height": 34
    },
    "colab_type": "code",
    "executionInfo": {
     "elapsed": 833,
     "status": "ok",
     "timestamp": 1577960937583,
     "user": {
      "displayName": "Shogo NAKAMURA",
      "photoUrl": "",
      "userId": "08074476773781801102"
     },
     "user_tz": -540
    },
    "id": "MKIvjGGMAFg4",
    "outputId": "ae4ad913-9ca3-492b-ab85-175b8543b13f"
   },
   "outputs": [
    {
     "name": "stdout",
     "output_type": "stream",
     "text": [
      "Drive already mounted at /content/drive; to attempt to forcibly remount, call drive.mount(\"/content/drive\", force_remount=True).\n"
     ]
    }
   ],
   "source": [
    "###  Rer.\n",
    "from google.colab import drive\n",
    "drive.mount('/content/drive')"
   ]
  },
  {
   "cell_type": "code",
   "execution_count": 0,
   "metadata": {
    "colab": {},
    "colab_type": "code",
    "id": "y3TNKtcYAY8R"
   },
   "outputs": [],
   "source": [
    "##-- import library\n",
    "import numpy as np \n",
    "import pandas as pd \n",
    "##-- Scikit-Learn\n",
    "from sklearn.model_selection import train_test_split\n",
    "##-- Matplot\n",
    "import matplotlib.pyplot as plt\n",
    "import matplotlib.cm as cm\n",
    "import matplotlib.image as mpimg\n",
    "import seaborn as sns\n",
    "%matplotlib inline"
   ]
  },
  {
   "cell_type": "code",
   "execution_count": 0,
   "metadata": {
    "colab": {},
    "colab_type": "code",
    "id": "edH8CExNAXkX"
   },
   "outputs": [],
   "source": [
    "###---  Data PATH  ---###\n",
    "datapath = \"drive/My Drive/data/\"\n",
    "\n",
    "###-- Read Datasets\n",
    "def load(f):\n",
    "    return np.load(f)['arr_0']\n",
    "X_original = load(datapath+\"ukiyoe-train-imgs.npz\")\n",
    "Y_original = load(datapath+\"ukiyoe-train-labels.npz\")\n",
    "\n",
    "###-- Shuffle dataset --###\n",
    "from sklearn.utils import shuffle\n",
    "X_original, Y_original = shuffle(X_original, Y_original, random_state=20200101)\n",
    "\n",
    "###-- Astype: int --> float\n",
    "X_original = X_original.astype(np.float32)\n",
    "###-- Normalization: [0:255] => [0.0:1.0]\n",
    "X_original = np.multiply(X_original, 1.0 / 255.0)\n",
    "\n",
    "###-- Encode labels to one hot vectors (ex : 2 -> [0,0,1,0,0,0,0,0,0,0])\n",
    "from keras.utils.np_utils import to_categorical # convert to one-hot-encoding\n",
    "Y_original = to_categorical(Y_original, num_classes = 10)"
   ]
  },
  {
   "cell_type": "code",
   "execution_count": 1,
   "metadata": {
    "colab": {
     "base_uri": "https://localhost:8080/",
     "height": 303
    },
    "colab_type": "code",
    "executionInfo": {
     "elapsed": 1414,
     "status": "ok",
     "timestamp": 1577960949379,
     "user": {
      "displayName": "Shogo NAKAMURA",
      "photoUrl": "",
      "userId": "08074476773781801102"
     },
     "user_tz": -540
    },
    "id": "UpBya7TJaLFg",
    "outputId": "95b629dc-12b5-4784-fe26-9397f6541145"
   },
   "outputs": [],
   "source": [
    "###-- Check the data shape --###\n",
    "print(\"X_original: \", X_original.shape)\n",
    "# print(\"X_original: \", X_original[3])\n",
    "###-- Check image\n",
    "plt.imshow(X_original[22], cmap=cm.gray_r, interpolation='nearest')\n",
    "plt.show()\n",
    "###-- Check the data of Y_original(label format)\n",
    "print(\"Y_original: \", Y_original[3])"
   ]
  },
  {
   "cell_type": "code",
   "execution_count": 2,
   "metadata": {
    "colab": {
     "base_uri": "https://localhost:8080/",
     "height": 248
    },
    "colab_type": "code",
    "executionInfo": {
     "elapsed": 2224,
     "status": "ok",
     "timestamp": 1577960952807,
     "user": {
      "displayName": "Shogo NAKAMURA",
      "photoUrl": "",
      "userId": "08074476773781801102"
     },
     "user_tz": -540
    },
    "id": "XO-Ol9-dgB0x",
    "outputId": "22702183-5fdc-418a-83a2-ee4c93a20da3"
   },
   "outputs": [],
   "source": [
    "###-- See several image --###\n",
    "cols, rows = 5, 4\n",
    "img_num = cols * rows\n",
    "\n",
    "for i in range(img_num):\n",
    "    plt.subplot(rows, cols, i + 1)\n",
    "    plt.imshow(X_original[i], cmap=cm.gray_r, interpolation=\"nearest\")\n",
    "    plt.axis('off')"
   ]
  },
  {
   "cell_type": "code",
   "execution_count": 0,
   "metadata": {
    "colab": {},
    "colab_type": "code",
    "id": "cQo8GUeyZZZN"
   },
   "outputs": [],
   "source": [
    "###-- KFold --###\n",
    "num_splits=5\n",
    "from sklearn.model_selection import KFold\n",
    "kf = KFold(n_splits=num_splits, shuffle=True, random_state=20200102)\n",
    "\n",
    "i = 0\n",
    "for train_idx, val_idx in kf.split(X_original):\n",
    "  i = i + 1\n",
    "  ###-- Set the dataset --###\n",
    "  X_kfold_train, Y_kfold_train = X_original[train_idx], Y_original[train_idx]\n",
    "  X_kfold_val, Y_kfold_val = X_original[val_idx], Y_original[val_idx]\n",
    "  ###-- 訓練データの保存 --###\n",
    "  datapath_kfold = \"drive/My Drive/jupyter/ProbSpace/ukiyoe/data_kfold/\"\n",
    "  np.savez(datapath_kfold+\"ukiyoe-dataset_kfold\"+str(i)+\"_train\"+\".npz\", img=X_kfold_train, lbl=Y_kfold_train)\n",
    "  np.savez(datapath_kfold+\"ukiyoe-dataset_kfold\"+str(i)+\"_validation\"+\".npz\", img=X_kfold_val, lbl=Y_kfold_val)"
   ]
  },
  {
   "cell_type": "code",
   "execution_count": 0,
   "metadata": {
    "colab": {},
    "colab_type": "code",
    "id": "BTs8rO_sc0Hf"
   },
   "outputs": [],
   "source": [
    "# ###-- 訓練データの読み込み --###\n",
    "# load_train = np.load('drive/My Drive/jupyter/ProbSpace/train-data/train-data.npz')\n",
    "# load_test = np.load('drive/My Drive/jupyter/ProbSpace/train-data/test-data.npz')\n",
    "# print(load_train.files)"
   ]
  },
  {
   "cell_type": "code",
   "execution_count": 0,
   "metadata": {
    "colab": {},
    "colab_type": "code",
    "id": "yqyDC0Pohj43"
   },
   "outputs": [],
   "source": []
  }
 ],
 "metadata": {
  "accelerator": "GPU",
  "colab": {
   "collapsed_sections": [],
   "name": "CNN_tf-keras_kfold.ipynb",
   "provenance": []
  },
  "kernelspec": {
   "display_name": "Python 3",
   "language": "python",
   "name": "python3"
  },
  "language_info": {
   "codemirror_mode": {
    "name": "ipython",
    "version": 3
   },
   "file_extension": ".py",
   "mimetype": "text/x-python",
   "name": "python",
   "nbconvert_exporter": "python",
   "pygments_lexer": "ipython3",
   "version": "3.7.7"
  }
 },
 "nbformat": 4,
 "nbformat_minor": 1
}
